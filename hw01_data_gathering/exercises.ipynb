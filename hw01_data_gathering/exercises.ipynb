{
 "cells": [
  {
   "cell_type": "markdown",
   "metadata": {},
   "source": [
    "## Numpy"
   ]
  },
  {
   "cell_type": "markdown",
   "metadata": {},
   "source": [
    "Импортировать NumPy под именем np"
   ]
  },
  {
   "cell_type": "code",
   "execution_count": 2,
   "metadata": {
    "collapsed": true
   },
   "outputs": [],
   "source": [
    "import numpy as np"
   ]
  },
  {
   "cell_type": "markdown",
   "metadata": {},
   "source": [
    "Создать вектор (одномерный массив) размера 10, заполненный нулями"
   ]
  },
  {
   "cell_type": "code",
   "execution_count": 3,
   "metadata": {},
   "outputs": [
    {
     "data": {
      "text/plain": [
       "[0, 0, 0, 0, 0, 0, 0, 0, 0, 0]"
      ]
     },
     "execution_count": 3,
     "metadata": {},
     "output_type": "execute_result"
    }
   ],
   "source": [
    "[0]*10"
   ]
  },
  {
   "cell_type": "markdown",
   "metadata": {},
   "source": [
    "Создать вектор размера 10, заполненный единицами"
   ]
  },
  {
   "cell_type": "code",
   "execution_count": 4,
   "metadata": {},
   "outputs": [
    {
     "data": {
      "text/plain": [
       "[1, 1, 1, 1, 1, 1, 1, 1, 1, 1]"
      ]
     },
     "execution_count": 4,
     "metadata": {},
     "output_type": "execute_result"
    }
   ],
   "source": [
    "[1]*10"
   ]
  },
  {
   "cell_type": "markdown",
   "metadata": {},
   "source": [
    "Создать вектор размера 10, заполненный числом 2.5"
   ]
  },
  {
   "cell_type": "code",
   "execution_count": 5,
   "metadata": {},
   "outputs": [
    {
     "data": {
      "text/plain": [
       "[2.5, 2.5, 2.5, 2.5, 2.5, 2.5, 2.5, 2.5, 2.5, 2.5]"
      ]
     },
     "execution_count": 5,
     "metadata": {},
     "output_type": "execute_result"
    }
   ],
   "source": [
    "[2.5]*10"
   ]
  },
  {
   "cell_type": "markdown",
   "metadata": {},
   "source": [
    "Создать вектор размера 10, заполненный нулями, но пятый элемент равен 1"
   ]
  },
  {
   "cell_type": "code",
   "execution_count": 7,
   "metadata": {},
   "outputs": [
    {
     "name": "stdout",
     "output_type": "stream",
     "text": [
      "[0, 0, 0, 0, 1, 0, 0, 0, 0, 0]\n"
     ]
    }
   ],
   "source": [
    "arr = [0]*10\n",
    "arr[4] = 1\n",
    "print arr"
   ]
  },
  {
   "cell_type": "markdown",
   "metadata": {},
   "source": [
    "Развернуть вектор (первый становится последним)"
   ]
  },
  {
   "cell_type": "code",
   "execution_count": 15,
   "metadata": {},
   "outputs": [
    {
     "name": "stdout",
     "output_type": "stream",
     "text": [
      "[5, 4, 3, 2, 1]\n"
     ]
    }
   ],
   "source": [
    "arr = [1,2,3,4,5]\n",
    "arr.reverse()\n",
    "print arr"
   ]
  },
  {
   "cell_type": "markdown",
   "metadata": {},
   "source": [
    "Создать матрицу (двумерный массив) 3x3 со значениями от 0 до 8"
   ]
  },
  {
   "cell_type": "code",
   "execution_count": 56,
   "metadata": {},
   "outputs": [
    {
     "name": "stdout",
     "output_type": "stream",
     "text": [
      "[[0, 1, 2], [3, 4, 5], [6, 7, 8]]\n"
     ]
    }
   ],
   "source": [
    "i = 0\n",
    "arr = []\n",
    "for _ in range(3):\n",
    "    arr.append(range(i, i+3))\n",
    "    i+=3\n",
    "print arr"
   ]
  },
  {
   "cell_type": "markdown",
   "metadata": {},
   "source": [
    "Найти индексы ненулевых элементов в [1,2,0,0,4,0]"
   ]
  },
  {
   "cell_type": "code",
   "execution_count": 25,
   "metadata": {},
   "outputs": [
    {
     "name": "stdout",
     "output_type": "stream",
     "text": [
      "[2, 3, 5]\n"
     ]
    }
   ],
   "source": [
    "result = []\n",
    "for i, x in enumerate([1,2,0,0,4,0]):\n",
    "    if x==0:\n",
    "        result.append(i)\n",
    "print result"
   ]
  },
  {
   "cell_type": "markdown",
   "metadata": {},
   "source": [
    "Создать 3x3 единичную матрицу"
   ]
  },
  {
   "cell_type": "code",
   "execution_count": 31,
   "metadata": {},
   "outputs": [
    {
     "data": {
      "text/plain": [
       "array([[ 1.,  1.,  1.],\n",
       "       [ 1.,  1.,  1.],\n",
       "       [ 1.,  1.,  1.]])"
      ]
     },
     "execution_count": 31,
     "metadata": {},
     "output_type": "execute_result"
    }
   ],
   "source": [
    "numpy.ones((3,3))"
   ]
  },
  {
   "cell_type": "markdown",
   "metadata": {},
   "source": [
    "Создать массив 3x3x3 со случайными значениями"
   ]
  },
  {
   "cell_type": "code",
   "execution_count": 37,
   "metadata": {},
   "outputs": [
    {
     "name": "stdout",
     "output_type": "stream",
     "text": [
      "[[[37 50 75]\n",
      "  [42 20 51]\n",
      "  [59 94 75]]\n",
      "\n",
      " [[70 79  5]\n",
      "  [71 54 15]\n",
      "  [27 79 11]]\n",
      "\n",
      " [[18 33 12]\n",
      "  [72 91 38]\n",
      "  [53 44 11]]]\n"
     ]
    }
   ],
   "source": [
    "arr = numpy.random.randint(100, size = (3, 3, 3))\n",
    "print arr"
   ]
  },
  {
   "cell_type": "markdown",
   "metadata": {},
   "source": [
    "Создать случайный вектор размера 30 и найти среднее значение всех элементов"
   ]
  },
  {
   "cell_type": "code",
   "execution_count": 38,
   "metadata": {},
   "outputs": [
    {
     "name": "stdout",
     "output_type": "stream",
     "text": [
      "[61  3 14 37 72 80  5 85 88 44 29 31 72 20 66 62  0 77 71  0  3 35 87  8 47\n",
      " 11 68 41 39  5]\n"
     ]
    }
   ],
   "source": [
    "print numpy.random.randint(100, size =(30))"
   ]
  },
  {
   "cell_type": "markdown",
   "metadata": {},
   "source": [
    "Перемножить матрицы 5x3 и 3x2"
   ]
  },
  {
   "cell_type": "code",
   "execution_count": 40,
   "metadata": {},
   "outputs": [
    {
     "name": "stdout",
     "output_type": "stream",
     "text": [
      "[[17579  7165]\n",
      " [14310  5167]\n",
      " [18115  3518]\n",
      " [17329  9038]\n",
      " [14566  4072]]\n"
     ]
    }
   ],
   "source": [
    "arr1 = numpy.random.randint(100, size =(5,3))\n",
    "arr2 = numpy.random.randint(100, size =(3,2))\n",
    "print numpy.dot(arr1, arr2)"
   ]
  },
  {
   "cell_type": "markdown",
   "metadata": {},
   "source": [
    "Создать вектор размера 10 со значениями от 0 до 1, не включая ни то, ни другое"
   ]
  },
  {
   "cell_type": "code",
   "execution_count": 45,
   "metadata": {},
   "outputs": [
    {
     "name": "stdout",
     "output_type": "stream",
     "text": [
      "[ 0.57594443  0.72972784  0.68556876  0.12831378  0.39311727  0.25348345\n",
      "  0.9256131   0.55840565  0.48416086  0.61300387]\n"
     ]
    }
   ],
   "source": [
    "print numpy.random.rand(10)"
   ]
  },
  {
   "cell_type": "markdown",
   "metadata": {},
   "source": [
    "Заменить максимальный элемент на ноль"
   ]
  },
  {
   "cell_type": "code",
   "execution_count": 47,
   "metadata": {},
   "outputs": [
    {
     "name": "stdout",
     "output_type": "stream",
     "text": [
      "[  6.29403025e-04   0.00000000e+00   2.17961687e-01   7.90349192e-01\n",
      "   1.89571905e-01   5.96017034e-01   7.04855353e-01   3.02475187e-01\n",
      "   4.62043143e-01   1.25863419e-02]\n"
     ]
    }
   ],
   "source": [
    "randArr = numpy.random.rand(10)\n",
    "randArr[randArr.argmax()]=0\n",
    "print randArr"
   ]
  },
  {
   "cell_type": "markdown",
   "metadata": {},
   "source": [
    "Преобразовать массив из float в int"
   ]
  },
  {
   "cell_type": "code",
   "execution_count": 48,
   "metadata": {},
   "outputs": [
    {
     "name": "stdout",
     "output_type": "stream",
     "text": [
      "[1 3 3 1 0 3 8 9 2 6]\n"
     ]
    }
   ],
   "source": [
    "randArr = numpy.random.rand(10)*10\n",
    "print randArr.astype(int)"
   ]
  },
  {
   "cell_type": "markdown",
   "metadata": {},
   "source": [
    "Дан массив (10,2) координат, найти расстояние от каждой точки до каждой"
   ]
  },
  {
   "cell_type": "code",
   "execution_count": 55,
   "metadata": {},
   "outputs": [
    {
     "name": "stdout",
     "output_type": "stream",
     "text": [
      "[ 8 50], [93 98] 97.6165969495\n",
      "[ 8 50], [50 28] 47.4130783645\n",
      "[ 8 50], [97 11] 97.169954204\n",
      "[ 8 50], [20 62] 16.9705627485\n",
      "[ 8 50], [44 39] 37.6430604494\n",
      "[ 8 50], [27  1] 52.5547333739\n",
      "[ 8 50], [94 30] 88.2949602186\n",
      "[ 8 50], [98 51] 90.0055553841\n",
      "[ 8 50], [67 71] 62.6258732474\n",
      "[93 98], [50 28] 82.1522975942\n",
      "[93 98], [97 11] 87.0919054792\n",
      "[93 98], [20 62] 81.3941029805\n",
      "[93 98], [44 39] 76.6941979553\n",
      "[93 98], [27  1] 117.324336776\n",
      "[93 98], [94 30] 68.0073525437\n",
      "[93 98], [98 51] 47.2652091924\n",
      "[93 98], [67 71] 37.483329628\n",
      "[50 28], [97 11] 49.9799959984\n",
      "[50 28], [20 62] 45.343136195\n",
      "[50 28], [44 39] 12.5299640861\n",
      "[50 28], [27  1] 35.4682957019\n",
      "[50 28], [94 30] 44.0454310911\n",
      "[50 28], [98 51] 53.2259335287\n",
      "[50 28], [67 71] 46.2385120868\n",
      "[97 11], [20 62] 92.3579991122\n",
      "[97 11], [44 39] 59.9416382826\n",
      "[97 11], [27  1] 70.7106781187\n",
      "[97 11], [94 30] 19.2353840617\n",
      "[97 11], [98 51] 40.0124980475\n",
      "[97 11], [67 71] 67.082039325\n",
      "[20 62], [44 39] 33.2415402772\n",
      "[20 62], [27  1] 61.400325732\n",
      "[20 62], [94 30] 80.622577483\n",
      "[20 62], [98 51] 78.7718223732\n",
      "[20 62], [67 71] 47.853944456\n",
      "[44 39], [27  1] 41.629316593\n",
      "[44 39], [94 30] 50.8035431835\n",
      "[44 39], [98 51] 55.3172667438\n",
      "[44 39], [67 71] 39.4081209905\n",
      "[27  1], [94 30] 73.0068489938\n",
      "[27  1], [98 51] 86.8389313615\n",
      "[27  1], [67 71] 80.622577483\n",
      "[94 30], [98 51] 21.3775583264\n",
      "[94 30], [67 71] 49.0917508345\n",
      "[98 51], [67 71] 36.8917334914\n"
     ]
    }
   ],
   "source": [
    "coord = numpy.random.randint(100, size =(10,2))\n",
    "for i in range(len(coord)):\n",
    "    for k in range(i+1, len(coord)):\n",
    "        print str(coord[i]) + \", \" + str(coord[k]) + \" \" + str(numpy.linalg.norm(coord[i]-coord[k]))\n",
    "\n",
    "    "
   ]
  },
  {
   "cell_type": "markdown",
   "metadata": {},
   "source": [
    "Случайно расположить p элементов в 2D массив"
   ]
  },
  {
   "cell_type": "code",
   "execution_count": 67,
   "metadata": {},
   "outputs": [
    {
     "name": "stdout",
     "output_type": "stream",
     "text": [
      "[[ 0.  3.  0.  3.]\n",
      " [ 0.  0.  0.  0.]\n",
      " [ 3.  0.  0.  0.]\n",
      " [ 0.  0.  0.  0.]]\n"
     ]
    }
   ],
   "source": [
    "s = 4\n",
    "twodarr = numpy.zeros((s,s))\n",
    "p = 3\n",
    "for _ in range(p):\n",
    "    rand = numpy.random.randint(s*s)\n",
    "    twodarr[rand//s][rand%s] = p\n",
    "print twodarr"
   ]
  },
  {
   "cell_type": "markdown",
   "metadata": {},
   "source": [
    "Дан вектор [1, 2, 3, 4, 5], построить новый вектор с тремя нулями между каждым значением"
   ]
  },
  {
   "cell_type": "code",
   "execution_count": 78,
   "metadata": {},
   "outputs": [
    {
     "name": "stdout",
     "output_type": "stream",
     "text": [
      "[1, 0, 0, 0, 2, 0, 0, 0, 3, 0, 0, 0, 4, 0, 0, 0, 5, 0, 0, 0]\n"
     ]
    }
   ],
   "source": [
    "arr = numpy.arange(5)+1\n",
    "numpy.split(arr, 1)\n",
    "result = []\n",
    "for i in arr:\n",
    "    for k in numpy.dot(i,[1,0,0,0]):\n",
    "        result.append(k)\n",
    "print result"
   ]
  },
  {
   "cell_type": "markdown",
   "metadata": {},
   "source": [
    "Найти наиболее частое значение в массиве"
   ]
  },
  {
   "cell_type": "code",
   "execution_count": 79,
   "metadata": {},
   "outputs": [
    {
     "name": "stdout",
     "output_type": "stream",
     "text": [
      "1\n"
     ]
    }
   ],
   "source": [
    "a = np.array([1,2,3,1,2,1,1,1,3,2,2,1])\n",
    "counts = np.bincount(a)\n",
    "print np.argmax(counts)"
   ]
  },
  {
   "cell_type": "markdown",
   "metadata": {},
   "source": [
    "Найти n наибольших значений в массиве"
   ]
  },
  {
   "cell_type": "code",
   "execution_count": 86,
   "metadata": {},
   "outputs": [
    {
     "name": "stdout",
     "output_type": "stream",
     "text": [
      "[2 3 3]\n"
     ]
    }
   ],
   "source": [
    "a = np.array([1,2,3,1,2,1,1,1,3,2,2,1])\n",
    "print (a[np.argsort(a)[-3:]])"
   ]
  },
  {
   "cell_type": "markdown",
   "metadata": {},
   "source": [
    "## Pandas - изучение данных"
   ]
  },
  {
   "cell_type": "markdown",
   "metadata": {
    "collapsed": true
   },
   "source": [
    "Перейти по ссылке [Kaggle]( https://www.kaggle.com/openfoodfacts/world-food-facts)"
   ]
  },
  {
   "cell_type": "markdown",
   "metadata": {
    "collapsed": true
   },
   "source": [
    "Скачать датасет на свой компьютер и распаковать"
   ]
  },
  {
   "cell_type": "markdown",
   "metadata": {
    "collapsed": true
   },
   "source": [
    "Считать csv файл в датафрейм food"
   ]
  },
  {
   "cell_type": "code",
   "execution_count": 95,
   "metadata": {
    "scrolled": true
   },
   "outputs": [],
   "source": [
    "import pandas as pd\n",
    "import unicodecsv as csv\n",
    "\n",
    "\n",
    "codes = []\n",
    "names = []\n",
    "\n",
    "food = pd.read_csv('/Users/dmitryzvyagin/projects/bigdata/homework/hw01_data_gathering/en.openfoodfacts.org.products.tsv', delimiter=\"\\t\", low_memory=False)"
   ]
  },
  {
   "cell_type": "markdown",
   "metadata": {
    "collapsed": true
   },
   "source": [
    "Посмотреть первые 5 записей"
   ]
  },
  {
   "cell_type": "code",
   "execution_count": 96,
   "metadata": {},
   "outputs": [
    {
     "name": "stdout",
     "output_type": "stream",
     "text": [
      "            code                                                url  \\\n",
      "0  0000000003087  http://world-en.openfoodfacts.org/product/0000...   \n",
      "1  0000000004530  http://world-en.openfoodfacts.org/product/0000...   \n",
      "2  0000000004559  http://world-en.openfoodfacts.org/product/0000...   \n",
      "3  0000000016087  http://world-en.openfoodfacts.org/product/0000...   \n",
      "4  0000000016094  http://world-en.openfoodfacts.org/product/0000...   \n",
      "\n",
      "                      creator   created_t      created_datetime  \\\n",
      "0  openfoodfacts-contributors  1474103866  2016-09-17T09:17:46Z   \n",
      "1             usda-ndb-import  1489069957  2017-03-09T14:32:37Z   \n",
      "2             usda-ndb-import  1489069957  2017-03-09T14:32:37Z   \n",
      "3             usda-ndb-import  1489055731  2017-03-09T10:35:31Z   \n",
      "4             usda-ndb-import  1489055653  2017-03-09T10:34:13Z   \n",
      "\n",
      "  last_modified_t last_modified_datetime                    product_name  \\\n",
      "0      1474103893   2016-09-17T09:18:13Z              Farine de blé noir   \n",
      "1      1489069957   2017-03-09T14:32:37Z  Banana Chips Sweetened (Whole)   \n",
      "2      1489069957   2017-03-09T14:32:37Z                         Peanuts   \n",
      "3      1489055731   2017-03-09T10:35:31Z          Organic Salted Nut Mix   \n",
      "4      1489055653   2017-03-09T10:34:13Z                 Organic Polenta   \n",
      "\n",
      "  generic_name quantity         ...         fruits-vegetables-nuts_100g  \\\n",
      "0          NaN      1kg         ...                                 NaN   \n",
      "1          NaN      NaN         ...                                 NaN   \n",
      "2          NaN      NaN         ...                                 NaN   \n",
      "3          NaN      NaN         ...                                 NaN   \n",
      "4          NaN      NaN         ...                                 NaN   \n",
      "\n",
      "  fruits-vegetables-nuts-estimate_100g collagen-meat-protein-ratio_100g  \\\n",
      "0                                  NaN                              NaN   \n",
      "1                                  NaN                              NaN   \n",
      "2                                  NaN                              NaN   \n",
      "3                                  NaN                              NaN   \n",
      "4                                  NaN                              NaN   \n",
      "\n",
      "  cocoa_100g chlorophyl_100g carbon-footprint_100g nutrition-score-fr_100g  \\\n",
      "0        NaN             NaN                   NaN                     NaN   \n",
      "1        NaN             NaN                   NaN                    14.0   \n",
      "2        NaN             NaN                   NaN                     0.0   \n",
      "3        NaN             NaN                   NaN                    12.0   \n",
      "4        NaN             NaN                   NaN                     NaN   \n",
      "\n",
      "  nutrition-score-uk_100g glycemic-index_100g water-hardness_100g  \n",
      "0                     NaN                 NaN                 NaN  \n",
      "1                    14.0                 NaN                 NaN  \n",
      "2                     0.0                 NaN                 NaN  \n",
      "3                    12.0                 NaN                 NaN  \n",
      "4                     NaN                 NaN                 NaN  \n",
      "\n",
      "[5 rows x 163 columns]\n"
     ]
    }
   ],
   "source": [
    "print food.head()"
   ]
  },
  {
   "cell_type": "markdown",
   "metadata": {
    "collapsed": true
   },
   "source": [
    "Сколько наблюдений в наборе данных?\n"
   ]
  },
  {
   "cell_type": "code",
   "execution_count": 99,
   "metadata": {},
   "outputs": [
    {
     "name": "stdout",
     "output_type": "stream",
     "text": [
      "356027\n"
     ]
    }
   ],
   "source": [
    "print food.shape[0]"
   ]
  },
  {
   "cell_type": "markdown",
   "metadata": {
    "collapsed": true
   },
   "source": [
    "Сколько столбцов в наборе данных?"
   ]
  },
  {
   "cell_type": "code",
   "execution_count": 100,
   "metadata": {},
   "outputs": [
    {
     "name": "stdout",
     "output_type": "stream",
     "text": [
      "163\n"
     ]
    }
   ],
   "source": [
    "print food.shape[1]"
   ]
  },
  {
   "cell_type": "markdown",
   "metadata": {
    "collapsed": true
   },
   "source": [
    "Напечатайте все названия столбцов"
   ]
  },
  {
   "cell_type": "code",
   "execution_count": 101,
   "metadata": {},
   "outputs": [
    {
     "name": "stdout",
     "output_type": "stream",
     "text": [
      "['code', 'url', 'creator', 'created_t', 'created_datetime', 'last_modified_t', 'last_modified_datetime', 'product_name', 'generic_name', 'quantity', 'packaging', 'packaging_tags', 'brands', 'brands_tags', 'categories', 'categories_tags', 'categories_en', 'origins', 'origins_tags', 'manufacturing_places', 'manufacturing_places_tags', 'labels', 'labels_tags', 'labels_en', 'emb_codes', 'emb_codes_tags', 'first_packaging_code_geo', 'cities', 'cities_tags', 'purchase_places', 'stores', 'countries', 'countries_tags', 'countries_en', 'ingredients_text', 'allergens', 'allergens_en', 'traces', 'traces_tags', 'traces_en', 'serving_size', 'no_nutriments', 'additives_n', 'additives', 'additives_tags', 'additives_en', 'ingredients_from_palm_oil_n', 'ingredients_from_palm_oil', 'ingredients_from_palm_oil_tags', 'ingredients_that_may_be_from_palm_oil_n', 'ingredients_that_may_be_from_palm_oil', 'ingredients_that_may_be_from_palm_oil_tags', 'nutrition_grade_uk', 'nutrition_grade_fr', 'pnns_groups_1', 'pnns_groups_2', 'states', 'states_tags', 'states_en', 'main_category', 'main_category_en', 'image_url', 'image_small_url', 'energy_100g', 'energy-from-fat_100g', 'fat_100g', 'saturated-fat_100g', '-butyric-acid_100g', '-caproic-acid_100g', '-caprylic-acid_100g', '-capric-acid_100g', '-lauric-acid_100g', '-myristic-acid_100g', '-palmitic-acid_100g', '-stearic-acid_100g', '-arachidic-acid_100g', '-behenic-acid_100g', '-lignoceric-acid_100g', '-cerotic-acid_100g', '-montanic-acid_100g', '-melissic-acid_100g', 'monounsaturated-fat_100g', 'polyunsaturated-fat_100g', 'omega-3-fat_100g', '-alpha-linolenic-acid_100g', '-eicosapentaenoic-acid_100g', '-docosahexaenoic-acid_100g', 'omega-6-fat_100g', '-linoleic-acid_100g', '-arachidonic-acid_100g', '-gamma-linolenic-acid_100g', '-dihomo-gamma-linolenic-acid_100g', 'omega-9-fat_100g', '-oleic-acid_100g', '-elaidic-acid_100g', '-gondoic-acid_100g', '-mead-acid_100g', '-erucic-acid_100g', '-nervonic-acid_100g', 'trans-fat_100g', 'cholesterol_100g', 'carbohydrates_100g', 'sugars_100g', '-sucrose_100g', '-glucose_100g', '-fructose_100g', '-lactose_100g', '-maltose_100g', '-maltodextrins_100g', 'starch_100g', 'polyols_100g', 'fiber_100g', 'proteins_100g', 'casein_100g', 'serum-proteins_100g', 'nucleotides_100g', 'salt_100g', 'sodium_100g', 'alcohol_100g', 'vitamin-a_100g', 'beta-carotene_100g', 'vitamin-d_100g', 'vitamin-e_100g', 'vitamin-k_100g', 'vitamin-c_100g', 'vitamin-b1_100g', 'vitamin-b2_100g', 'vitamin-pp_100g', 'vitamin-b6_100g', 'vitamin-b9_100g', 'folates_100g', 'vitamin-b12_100g', 'biotin_100g', 'pantothenic-acid_100g', 'silica_100g', 'bicarbonate_100g', 'potassium_100g', 'chloride_100g', 'calcium_100g', 'phosphorus_100g', 'iron_100g', 'magnesium_100g', 'zinc_100g', 'copper_100g', 'manganese_100g', 'fluoride_100g', 'selenium_100g', 'chromium_100g', 'molybdenum_100g', 'iodine_100g', 'caffeine_100g', 'taurine_100g', 'ph_100g', 'fruits-vegetables-nuts_100g', 'fruits-vegetables-nuts-estimate_100g', 'collagen-meat-protein-ratio_100g', 'cocoa_100g', 'chlorophyl_100g', 'carbon-footprint_100g', 'nutrition-score-fr_100g', 'nutrition-score-uk_100g', 'glycemic-index_100g', 'water-hardness_100g']\n"
     ]
    }
   ],
   "source": [
    "print list(food)"
   ]
  },
  {
   "cell_type": "markdown",
   "metadata": {
    "collapsed": true
   },
   "source": [
    "Какое название у 105 столбца?"
   ]
  },
  {
   "cell_type": "code",
   "execution_count": 102,
   "metadata": {},
   "outputs": [
    {
     "name": "stdout",
     "output_type": "stream",
     "text": [
      "-glucose_100g\n"
     ]
    }
   ],
   "source": [
    "print list(food)[104]"
   ]
  },
  {
   "cell_type": "markdown",
   "metadata": {},
   "source": [
    "Какой тип наблюдений в 105 столбце?"
   ]
  },
  {
   "cell_type": "code",
   "execution_count": 107,
   "metadata": {},
   "outputs": [
    {
     "name": "stdout",
     "output_type": "stream",
     "text": [
      "float64\n"
     ]
    }
   ],
   "source": [
    "print food.dtypes[104]"
   ]
  },
  {
   "cell_type": "markdown",
   "metadata": {},
   "source": [
    "Как проиндексирован набор данных?"
   ]
  },
  {
   "cell_type": "code",
   "execution_count": 108,
   "metadata": {},
   "outputs": [
    {
     "name": "stdout",
     "output_type": "stream",
     "text": [
      "[     0      1      2 ..., 356024 356025 356026]\n"
     ]
    }
   ],
   "source": [
    "print food.index.values"
   ]
  },
  {
   "cell_type": "markdown",
   "metadata": {},
   "source": [
    "Каково значение имени продукта в 19-м наблюдении?"
   ]
  },
  {
   "cell_type": "code",
   "execution_count": 109,
   "metadata": {},
   "outputs": [
    {
     "name": "stdout",
     "output_type": "stream",
     "text": [
      "Lotus Organic Brown Jasmine Rice\n"
     ]
    }
   ],
   "source": [
    "print food.product_name[18]"
   ]
  },
  {
   "cell_type": "markdown",
   "metadata": {},
   "source": [
    "## Pandas - фильтрация данных"
   ]
  },
  {
   "cell_type": "markdown",
   "metadata": {},
   "source": [
    "Считать данные по  [адресу](https://raw.githubusercontent.com/justmarkham/DAT8/master/data/chipotle.tsv). \n",
    "Присвоить переменной chipo"
   ]
  },
  {
   "cell_type": "code",
   "execution_count": 110,
   "metadata": {
    "collapsed": true
   },
   "outputs": [],
   "source": [
    "chipo = pd.read_csv('/Users/dmitryzvyagin/projects/bigdata/homework/hw01_data_gathering/chipo.tsv', delimiter=\"\\t\", low_memory=False)"
   ]
  },
  {
   "cell_type": "markdown",
   "metadata": {},
   "source": [
    "Как много продуктов стоят более чем $10.00?"
   ]
  },
  {
   "cell_type": "code",
   "execution_count": 130,
   "metadata": {},
   "outputs": [
    {
     "name": "stdout",
     "output_type": "stream",
     "text": [
      "1130\n"
     ]
    }
   ],
   "source": [
    "\n",
    "k=0\n",
    "for i in chipo.item_price:\n",
    "    price = float(str(i).replace(\"$\",\"\").lstrip())\n",
    "    if price > 10:\n",
    "        k+=1\n",
    "print k"
   ]
  },
  {
   "cell_type": "markdown",
   "metadata": {},
   "source": [
    "Какова цена каждого предмета? Напечатать столбцы item_name и item_price"
   ]
  },
  {
   "cell_type": "code",
   "execution_count": 131,
   "metadata": {},
   "outputs": [
    {
     "name": "stdout",
     "output_type": "stream",
     "text": [
      "                                  item_name item_price\n",
      "0              Chips and Fresh Tomato Salsa     $2.39 \n",
      "1                                      Izze     $3.39 \n",
      "2                          Nantucket Nectar     $3.39 \n",
      "3     Chips and Tomatillo-Green Chili Salsa     $2.39 \n",
      "4                              Chicken Bowl    $16.98 \n",
      "5                              Chicken Bowl    $10.98 \n",
      "6                             Side of Chips     $1.69 \n",
      "7                             Steak Burrito    $11.75 \n",
      "8                          Steak Soft Tacos     $9.25 \n",
      "9                             Steak Burrito     $9.25 \n",
      "10                      Chips and Guacamole     $4.45 \n",
      "11                     Chicken Crispy Tacos     $8.75 \n",
      "12                       Chicken Soft Tacos     $8.75 \n",
      "13                             Chicken Bowl    $11.25 \n",
      "14                      Chips and Guacamole     $4.45 \n",
      "15    Chips and Tomatillo-Green Chili Salsa     $2.39 \n",
      "16                          Chicken Burrito     $8.49 \n",
      "17                          Chicken Burrito     $8.49 \n",
      "18                              Canned Soda     $2.18 \n",
      "19                             Chicken Bowl     $8.75 \n",
      "20                      Chips and Guacamole     $4.45 \n",
      "21                         Barbacoa Burrito     $8.99 \n",
      "22                         Nantucket Nectar     $3.39 \n",
      "23                          Chicken Burrito    $10.98 \n",
      "24                                     Izze     $3.39 \n",
      "25             Chips and Fresh Tomato Salsa     $2.39 \n",
      "26                             Chicken Bowl     $8.49 \n",
      "27                         Carnitas Burrito     $8.99 \n",
      "28                              Canned Soda     $1.09 \n",
      "29                          Chicken Burrito     $8.49 \n",
      "...                                     ...        ...\n",
      "4592                       Barbacoa Burrito    $11.75 \n",
      "4593                          Carnitas Bowl    $11.75 \n",
      "4594                          Barbacoa Bowl    $11.75 \n",
      "4595                           Chicken Bowl     $8.75 \n",
      "4596                    Chips and Guacamole     $4.45 \n",
      "4597                      Canned Soft Drink     $1.25 \n",
      "4598                          Bottled Water     $1.50 \n",
      "4599                           Chicken Bowl     $8.75 \n",
      "4600                    Chips and Guacamole     $4.45 \n",
      "4601                      Canned Soft Drink     $1.25 \n",
      "4602                       Barbacoa Burrito     $9.25 \n",
      "4603                       Barbacoa Burrito     $9.25 \n",
      "4604                           Chicken Bowl     $8.75 \n",
      "4605                    Chips and Guacamole     $4.45 \n",
      "4606                      Canned Soft Drink     $1.25 \n",
      "4607                          Steak Burrito    $11.75 \n",
      "4608                         Veggie Burrito    $11.25 \n",
      "4609                      Canned Soft Drink     $1.25 \n",
      "4610                          Steak Burrito    $11.75 \n",
      "4611                         Veggie Burrito    $11.25 \n",
      "4612                          Carnitas Bowl     $9.25 \n",
      "4613                                  Chips     $2.15 \n",
      "4614                          Bottled Water     $1.50 \n",
      "4615                     Chicken Soft Tacos     $8.75 \n",
      "4616                    Chips and Guacamole     $4.45 \n",
      "4617                          Steak Burrito    $11.75 \n",
      "4618                          Steak Burrito    $11.75 \n",
      "4619                     Chicken Salad Bowl    $11.25 \n",
      "4620                     Chicken Salad Bowl     $8.75 \n",
      "4621                     Chicken Salad Bowl     $8.75 \n",
      "\n",
      "[4622 rows x 2 columns]\n"
     ]
    }
   ],
   "source": [
    "print chipo[['item_name', 'item_price']]"
   ]
  },
  {
   "cell_type": "markdown",
   "metadata": {},
   "source": [
    "Отсортировать по имени предмета"
   ]
  },
  {
   "cell_type": "code",
   "execution_count": 134,
   "metadata": {},
   "outputs": [
    {
     "name": "stdout",
     "output_type": "stream",
     "text": [
      "      order_id  quantity          item_name  \\\n",
      "3389      1360         2  6 Pack Soft Drink   \n",
      "341        148         1  6 Pack Soft Drink   \n",
      "1849       749         1  6 Pack Soft Drink   \n",
      "1860       754         1  6 Pack Soft Drink   \n",
      "2713      1076         1  6 Pack Soft Drink   \n",
      "3422      1373         1  6 Pack Soft Drink   \n",
      "553        230         1  6 Pack Soft Drink   \n",
      "1916       774         1  6 Pack Soft Drink   \n",
      "1922       776         1  6 Pack Soft Drink   \n",
      "1937       784         1  6 Pack Soft Drink   \n",
      "3836      1537         1  6 Pack Soft Drink   \n",
      "298        129         1  6 Pack Soft Drink   \n",
      "1976       798         1  6 Pack Soft Drink   \n",
      "1167       481         1  6 Pack Soft Drink   \n",
      "3875      1554         1  6 Pack Soft Drink   \n",
      "1124       465         1  6 Pack Soft Drink   \n",
      "3886      1558         1  6 Pack Soft Drink   \n",
      "2108       849         1  6 Pack Soft Drink   \n",
      "3010      1196         1  6 Pack Soft Drink   \n",
      "4535      1803         1  6 Pack Soft Drink   \n",
      "4169      1664         1  6 Pack Soft Drink   \n",
      "4174      1666         1  6 Pack Soft Drink   \n",
      "4527      1800         1  6 Pack Soft Drink   \n",
      "4522      1798         1  6 Pack Soft Drink   \n",
      "3806      1525         1  6 Pack Soft Drink   \n",
      "2389       949         1  6 Pack Soft Drink   \n",
      "3132      1248         1  6 Pack Soft Drink   \n",
      "3141      1253         1  6 Pack Soft Drink   \n",
      "639        264         1  6 Pack Soft Drink   \n",
      "1026       422         1  6 Pack Soft Drink   \n",
      "...        ...       ...                ...   \n",
      "2996      1192         1       Veggie Salad   \n",
      "3163      1263         1       Veggie Salad   \n",
      "4084      1635         1       Veggie Salad   \n",
      "1694       686         1       Veggie Salad   \n",
      "2756      1094         1       Veggie Salad   \n",
      "4201      1677         1  Veggie Salad Bowl   \n",
      "1884       760         1  Veggie Salad Bowl   \n",
      "455        195         1  Veggie Salad Bowl   \n",
      "3223      1289         1  Veggie Salad Bowl   \n",
      "2223       896         1  Veggie Salad Bowl   \n",
      "2269       913         1  Veggie Salad Bowl   \n",
      "4541      1805         1  Veggie Salad Bowl   \n",
      "3293      1321         1  Veggie Salad Bowl   \n",
      "186         83         1  Veggie Salad Bowl   \n",
      "960        394         1  Veggie Salad Bowl   \n",
      "1316       536         1  Veggie Salad Bowl   \n",
      "2156       869         1  Veggie Salad Bowl   \n",
      "4261      1700         1  Veggie Salad Bowl   \n",
      "295        128         1  Veggie Salad Bowl   \n",
      "4573      1818         1  Veggie Salad Bowl   \n",
      "2683      1066         1  Veggie Salad Bowl   \n",
      "496        207         1  Veggie Salad Bowl   \n",
      "4109      1646         1  Veggie Salad Bowl   \n",
      "738        304         1  Veggie Soft Tacos   \n",
      "3889      1559         2  Veggie Soft Tacos   \n",
      "2384       948         1  Veggie Soft Tacos   \n",
      "781        322         1  Veggie Soft Tacos   \n",
      "2851      1132         1  Veggie Soft Tacos   \n",
      "1699       688         1  Veggie Soft Tacos   \n",
      "1395       567         1  Veggie Soft Tacos   \n",
      "\n",
      "                                     choice_description item_price  \n",
      "3389                                        [Diet Coke]    $12.98   \n",
      "341                                         [Diet Coke]     $6.49   \n",
      "1849                                             [Coke]     $6.49   \n",
      "1860                                        [Diet Coke]     $6.49   \n",
      "2713                                             [Coke]     $6.49   \n",
      "3422                                             [Coke]     $6.49   \n",
      "553                                         [Diet Coke]     $6.49   \n",
      "1916                                        [Diet Coke]     $6.49   \n",
      "1922                                             [Coke]     $6.49   \n",
      "1937                                        [Diet Coke]     $6.49   \n",
      "3836                                             [Coke]     $6.49   \n",
      "298                                            [Sprite]     $6.49   \n",
      "1976                                        [Diet Coke]     $6.49   \n",
      "1167                                             [Coke]     $6.49   \n",
      "3875                                        [Diet Coke]     $6.49   \n",
      "1124                                             [Coke]     $6.49   \n",
      "3886                                        [Diet Coke]     $6.49   \n",
      "2108                                             [Coke]     $6.49   \n",
      "3010                                        [Diet Coke]     $6.49   \n",
      "4535                                         [Lemonade]     $6.49   \n",
      "4169                                        [Diet Coke]     $6.49   \n",
      "4174                                             [Coke]     $6.49   \n",
      "4527                                        [Diet Coke]     $6.49   \n",
      "4522                                        [Diet Coke]     $6.49   \n",
      "3806                                           [Sprite]     $6.49   \n",
      "2389                                             [Coke]     $6.49   \n",
      "3132                                        [Diet Coke]     $6.49   \n",
      "3141                                         [Lemonade]     $6.49   \n",
      "639                                         [Diet Coke]     $6.49   \n",
      "1026                                           [Sprite]     $6.49   \n",
      "...                                                 ...        ...  \n",
      "2996  [Roasted Chili Corn Salsa (Medium), [Black Bea...     $8.49   \n",
      "3163  [[Fresh Tomato Salsa (Mild), Roasted Chili Cor...     $8.49   \n",
      "4084  [[Fresh Tomato Salsa (Mild), Roasted Chili Cor...     $8.49   \n",
      "1694  [[Fresh Tomato Salsa (Mild), Roasted Chili Cor...     $8.49   \n",
      "2756  [[Tomatillo-Green Chili Salsa (Medium), Roaste...     $8.49   \n",
      "4201  [Fresh Tomato Salsa, [Fajita Vegetables, Black...    $11.25   \n",
      "1884  [Fresh Tomato Salsa, [Fajita Vegetables, Rice,...    $11.25   \n",
      "455   [Fresh Tomato Salsa, [Fajita Vegetables, Rice,...    $11.25   \n",
      "3223  [Tomatillo Red Chili Salsa, [Fajita Vegetables...    $11.25   \n",
      "2223      [Roasted Chili Corn Salsa, Fajita Vegetables]     $8.75   \n",
      "2269  [Fresh Tomato Salsa, [Fajita Vegetables, Rice,...     $8.75   \n",
      "4541  [Tomatillo Green Chili Salsa, [Fajita Vegetabl...     $8.75   \n",
      "3293  [Fresh Tomato Salsa, [Rice, Black Beans, Chees...     $8.75   \n",
      "186   [Fresh Tomato Salsa, [Fajita Vegetables, Rice,...    $11.25   \n",
      "960   [Fresh Tomato Salsa, [Fajita Vegetables, Lettu...     $8.75   \n",
      "1316  [Fresh Tomato Salsa, [Fajita Vegetables, Rice,...     $8.75   \n",
      "2156  [Tomatillo Red Chili Salsa, [Fajita Vegetables...    $11.25   \n",
      "4261  [Fresh Tomato Salsa, [Fajita Vegetables, Rice,...    $11.25   \n",
      "295   [Fresh Tomato Salsa, [Fajita Vegetables, Lettu...    $11.25   \n",
      "4573  [Fresh Tomato Salsa, [Fajita Vegetables, Pinto...     $8.75   \n",
      "2683  [Roasted Chili Corn Salsa, [Fajita Vegetables,...     $8.75   \n",
      "496   [Fresh Tomato Salsa, [Rice, Lettuce, Guacamole...    $11.25   \n",
      "4109  [Tomatillo Red Chili Salsa, [Fajita Vegetables...    $11.25   \n",
      "738   [Tomatillo Red Chili Salsa, [Fajita Vegetables...    $11.25   \n",
      "3889  [Fresh Tomato Salsa (Mild), [Black Beans, Rice...    $16.98   \n",
      "2384  [Roasted Chili Corn Salsa, [Fajita Vegetables,...     $8.75   \n",
      "781   [Fresh Tomato Salsa, [Black Beans, Cheese, Sou...     $8.75   \n",
      "2851  [Roasted Chili Corn Salsa (Medium), [Black Bea...     $8.49   \n",
      "1699  [Fresh Tomato Salsa, [Fajita Vegetables, Rice,...    $11.25   \n",
      "1395  [Fresh Tomato Salsa (Mild), [Pinto Beans, Rice...     $8.49   \n",
      "\n",
      "[4622 rows x 5 columns]\n"
     ]
    }
   ],
   "source": [
    "print chipo.sort_values('item_name')"
   ]
  },
  {
   "cell_type": "markdown",
   "metadata": {},
   "source": [
    "Сколько было заказано самого дорогого предмета?"
   ]
  },
  {
   "cell_type": "code",
   "execution_count": 161,
   "metadata": {},
   "outputs": [
    {
     "name": "stdout",
     "output_type": "stream",
     "text": [
      "      order_id  quantity                     item_name choice_description  \\\n",
      "3598      1443        15  Chips and Fresh Tomato Salsa                NaN   \n",
      "\n",
      "     item_price  \n",
      "3598    $44.25   \n"
     ]
    }
   ],
   "source": [
    "maxx = chipo.item_price.map(lambda x: float(x.strip().replace(\"$\",\"\"))).max()\n",
    "print chipo[chipo.item_price.str.contains(str(maxx))]"
   ]
  },
  {
   "cell_type": "markdown",
   "metadata": {},
   "source": [
    "Сколько раз был заказан предмет \"Veggie Salad Bowl\"?"
   ]
  },
  {
   "cell_type": "code",
   "execution_count": 140,
   "metadata": {},
   "outputs": [
    {
     "name": "stdout",
     "output_type": "stream",
     "text": [
      "order_id              18\n",
      "quantity              18\n",
      "item_name             18\n",
      "choice_description    18\n",
      "item_price            18\n",
      "dtype: int64\n"
     ]
    }
   ],
   "source": [
    "print chipo[chipo.item_name == \"Veggie Salad Bowl\"].count()"
   ]
  },
  {
   "cell_type": "markdown",
   "metadata": {},
   "source": [
    "Сколько раз люди заказали более чем 1 предмет \"Canned Soda\"?"
   ]
  },
  {
   "cell_type": "code",
   "execution_count": 142,
   "metadata": {},
   "outputs": [
    {
     "name": "stdout",
     "output_type": "stream",
     "text": [
      "order_id              20\n",
      "quantity              20\n",
      "item_name             20\n",
      "choice_description    20\n",
      "item_price            20\n",
      "dtype: int64\n"
     ]
    }
   ],
   "source": [
    "print chipo[(chipo.item_name == \"Canned Soda\") & (chipo.quantity>1)].count()"
   ]
  },
  {
   "cell_type": "code",
   "execution_count": null,
   "metadata": {
    "collapsed": true
   },
   "outputs": [],
   "source": []
  }
 ],
 "metadata": {
  "kernelspec": {
   "display_name": "Python 2",
   "language": "python",
   "name": "python2"
  },
  "language_info": {
   "codemirror_mode": {
    "name": "ipython",
    "version": 2
   },
   "file_extension": ".py",
   "mimetype": "text/x-python",
   "name": "python",
   "nbconvert_exporter": "python",
   "pygments_lexer": "ipython2",
   "version": "2.7.14"
  }
 },
 "nbformat": 4,
 "nbformat_minor": 2
}
